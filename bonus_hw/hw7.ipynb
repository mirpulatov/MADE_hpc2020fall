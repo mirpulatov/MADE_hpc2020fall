{
 "cells": [
  {
   "cell_type": "markdown",
   "metadata": {},
   "source": [
    "Выберите многомерную функцию, реализуйте на Python для анализа чувствительности с библиотекой SALib, проведите анализ чувствительности, измерьте вреся -- 3 балла"
   ]
  },
  {
   "cell_type": "code",
   "execution_count": 1,
   "metadata": {},
   "outputs": [],
   "source": [
    "import time\n",
    "import numpy as np\n",
    "from numba import njit, prange\n",
    "from SALib.sample import saltelli\n",
    "from SALib.analyze import sobol"
   ]
  },
  {
   "cell_type": "code",
   "execution_count": 2,
   "metadata": {},
   "outputs": [],
   "source": [
    "a = 2\n",
    "b = 0.7"
   ]
  },
  {
   "cell_type": "code",
   "execution_count": 3,
   "metadata": {},
   "outputs": [],
   "source": [
    "def evaluate_model(x):\n",
    "    return a * np.sin(x[2]) ** 2 * np.cos(x[2]) + b * np.sin(x[0])**3 * np.cos(x[1])**3"
   ]
  },
  {
   "cell_type": "code",
   "execution_count": 4,
   "metadata": {},
   "outputs": [],
   "source": [
    "problem = {\n",
    "    'num_vars' : 3,\n",
    "    'names' : ['x1', 'x2', 'x3'],\n",
    "    'bounds' : [[-6, 6],\n",
    "                [-6, 6],\n",
    "                [-6, 6]\n",
    "               ]\n",
    "}"
   ]
  },
  {
   "cell_type": "code",
   "execution_count": 5,
   "metadata": {},
   "outputs": [
    {
     "name": "stdout",
     "output_type": "stream",
     "text": [
      "samples generation took 10.129864931106567 seconds\n",
      "model evaluation took 10.090608835220337 seconds\n",
      "SA took 14.289999961853027 seconds\n",
      "[8.26645488e-04 1.87719597e-04 8.51950868e-01]\n",
      "[0.14816062 0.14701181 0.8520375 ]\n",
      "x1-x2: 0.1470339970177656\n",
      "x1-x3: 0.0003233657682393254\n",
      "x2-x3: -0.00018170574726417144\n"
     ]
    }
   ],
   "source": [
    "n = 100000\n",
    "start = time.time()\n",
    "param_values = saltelli.sample(problem, n)\n",
    "print(\"samples generation took %s seconds\" %(time.time() - start))\n",
    "Y = np.zeros([param_values.shape[0]])\n",
    "\n",
    "start = time.time()\n",
    "for i, X in enumerate(param_values):\n",
    "    Y[i] = evaluate_model(X)\n",
    "\n",
    "print(\"model evaluation took %s seconds\" %(time.time() - start))\n",
    "\n",
    "start = time.time()\n",
    "Si = sobol.analyze(problem, Y)\n",
    "\n",
    "print(\"SA took %s seconds\" %(time.time() - start))\n",
    "# first-order indices\n",
    "print(Si['S1'])\n",
    "# total indices for each variable\n",
    "print(Si['ST'])\n",
    "# second order indices\n",
    "print(\"x1-x2:\", Si['S2'][0,1])\n",
    "print(\"x1-x3:\", Si['S2'][0,2])\n",
    "print(\"x2-x3:\", Si['S2'][1,2])"
   ]
  },
  {
   "cell_type": "markdown",
   "metadata": {},
   "source": [
    "Ускорьте вычисления любым из способов с лекции (PyBind11, ctypes, cython, numba) -- 3 балла"
   ]
  },
  {
   "cell_type": "code",
   "execution_count": 6,
   "metadata": {},
   "outputs": [],
   "source": [
    "@njit\n",
    "def opt_evaluate_model(x):\n",
    "    return a * np.sin(x[2]) ** 2 * np.cos(x[2]) + b * np.sin(x[0])**3 * np.cos(x[1])**3"
   ]
  },
  {
   "cell_type": "code",
   "execution_count": 7,
   "metadata": {
    "scrolled": true
   },
   "outputs": [
    {
     "name": "stdout",
     "output_type": "stream",
     "text": [
      "samples generation took 5.160666227340698 seconds\n",
      "model evaluation took 1.2633419036865234 seconds\n",
      "SA took 12.311583042144775 seconds\n"
     ]
    }
   ],
   "source": [
    "n = 100000\n",
    "start = time.time()\n",
    "param_values = saltelli.sample(problem, n)\n",
    "print(\"samples generation took %s seconds\" %(time.time() - start))\n",
    "Y = np.zeros([param_values.shape[0]])\n",
    "\n",
    "start = time.time()\n",
    "for i, X in enumerate(param_values):\n",
    "    Y[i] = opt_evaluate_model(X)\n",
    "\n",
    "print(\"model evaluation took %s seconds\" %(time.time() - start))\n",
    "\n",
    "start = time.time()\n",
    "Si = sobol.analyze(problem, Y)\n",
    "\n",
    "print(\"SA took %s seconds\" %(time.time() - start))"
   ]
  },
  {
   "cell_type": "markdown",
   "metadata": {},
   "source": [
    "Используйте параллелизм --  4 балла"
   ]
  },
  {
   "cell_type": "markdown",
   "metadata": {},
   "source": [
    "Распараллелить я решил опять таки через Numba, пробовал через пул процессов не давало сильного прироста, как через prange"
   ]
  },
  {
   "cell_type": "code",
   "execution_count": 8,
   "metadata": {},
   "outputs": [
    {
     "name": "stdout",
     "output_type": "stream",
     "text": [
      "samples generation took 4.898255825042725 seconds\n",
      "model evaluation took 0.1169431209564209 seconds\n",
      "SA took 12.18838381767273 seconds\n"
     ]
    }
   ],
   "source": [
    "n = 100000\n",
    "start = time.time()\n",
    "param_values = saltelli.sample(problem, n)\n",
    "print(\"samples generation took %s seconds\" %(time.time() - start))\n",
    "Y = np.zeros([param_values.shape[0]])\n",
    "\n",
    "start = time.time()\n",
    "for i in prange(100000):\n",
    "    Y[i] = opt_evaluate_model(param_values[i])\n",
    "\n",
    "print(\"model evaluation took %s seconds\" %(time.time() - start))\n",
    "\n",
    "start = time.time()\n",
    "Si = sobol.analyze(problem, Y)\n",
    "\n",
    "print(\"SA took %s seconds\" %(time.time() - start))"
   ]
  }
 ],
 "metadata": {
  "kernelspec": {
   "display_name": "Python 3",
   "language": "python",
   "name": "python3"
  },
  "language_info": {
   "codemirror_mode": {
    "name": "ipython",
    "version": 3
   },
   "file_extension": ".py",
   "mimetype": "text/x-python",
   "name": "python",
   "nbconvert_exporter": "python",
   "pygments_lexer": "ipython3",
   "version": "3.8.5"
  }
 },
 "nbformat": 4,
 "nbformat_minor": 4
}
