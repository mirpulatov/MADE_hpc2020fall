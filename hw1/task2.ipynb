{
 "cells": [
  {
   "cell_type": "code",
   "execution_count": 1,
   "metadata": {},
   "outputs": [],
   "source": [
    "import pandas as pd\n",
    "import numpy as np\n",
    "import matplotlib.pyplot as plt\n",
    "%matplotlib inline"
   ]
  },
  {
   "cell_type": "code",
   "execution_count": 2,
   "metadata": {},
   "outputs": [],
   "source": [
    "# Пришлось поковыряться, чтобы достать данные\n",
    "data = pd.read_json('perf.json')"
   ]
  },
  {
   "cell_type": "code",
   "execution_count": 3,
   "metadata": {},
   "outputs": [],
   "source": [
    "# Заменим даты на числа от 0 до 54\n",
    "x = np.linspace(0, 54, 55)"
   ]
  },
  {
   "cell_type": "code",
   "execution_count": 4,
   "metadata": {},
   "outputs": [],
   "source": [
    "first = data[3]\n",
    "first = np.asarray(first)"
   ]
  },
  {
   "cell_type": "code",
   "execution_count": 5,
   "metadata": {},
   "outputs": [],
   "source": [
    "last = data[5]\n",
    "last = np.asarray(last)"
   ]
  },
  {
   "cell_type": "code",
   "execution_count": 6,
   "metadata": {},
   "outputs": [],
   "source": [
    "z_first = np.polyfit(x, first, 7)\n",
    "p_first = np.poly1d(z_first)"
   ]
  },
  {
   "cell_type": "code",
   "execution_count": 7,
   "metadata": {},
   "outputs": [],
   "source": [
    "z_last = np.polyfit(x, last, 6)\n",
    "p_last = np.poly1d(z_last)"
   ]
  },
  {
   "cell_type": "code",
   "execution_count": 8,
   "metadata": {},
   "outputs": [],
   "source": [
    "# Добавим числа обозначающие даты\n",
    "# 55: 2020-10\n",
    "# 56: 2021-05 ... 65: 2025-10 \n",
    "\n",
    "for i in range(55, 66):\n",
    "    first = np.append(first, p_first(i))"
   ]
  },
  {
   "cell_type": "code",
   "execution_count": 9,
   "metadata": {},
   "outputs": [],
   "source": [
    "for i in range(55, 66):\n",
    "    last = np.append(last, p_last(i))"
   ]
  },
  {
   "cell_type": "code",
   "execution_count": 10,
   "metadata": {},
   "outputs": [
    {
     "name": "stdout",
     "output_type": "stream",
     "text": [
      "Для первого места\n",
      "2025-05:  5008541528.042062  GFlop/s\n",
      "2025-10:  6239466219.787838  GFlop/s\n"
     ]
    },
    {
     "data": {
      "image/png": "[encoded data removed]",
      "text/plain": [
       "<Figure size 432x288 with 1 Axes>"
      ]
     },
     "metadata": {},
     "output_type": "display_data"
    }
   ],
   "source": [
    "print(\"Для первого места\")\n",
    "plt.style.use('seaborn-whitegrid')\n",
    "plt.yticks(np.arange(min(first), max(first)+1, 500000000))\n",
    "plt.plot([i for i in range(0, 66)], first)\n",
    "print(\"2025-05: \", first[64], \" GFlop/s\")\n",
    "print(\"2025-10: \", first[65], \" GFlop/s\")"
   ]
  },
  {
   "cell_type": "code",
   "execution_count": 11,
   "metadata": {},
   "outputs": [
    {
     "name": "stdout",
     "output_type": "stream",
     "text": [
      "Для последнего места\n",
      "2025-05:  4848273.864371605  GFlop/s\n",
      "2025-10:  5418118.0488692345  GFlop/s\n"
     ]
    },
    {
     "data": {
      "image/png": "[encoded data removed]",
      "text/plain": [
       "<Figure size 432x288 with 1 Axes>"
      ]
     },
     "metadata": {},
     "output_type": "display_data"
    }
   ],
   "source": [
    "print(\"Для последнего места\")\n",
    "plt.style.use('seaborn-whitegrid')\n",
    "plt.yticks(np.arange(min(last), max(last)+1, 500000000))\n",
    "plt.plot([i for i in range(0, 66)], last)\n",
    "print(\"2025-05: \", last[64], \" GFlop/s\")\n",
    "print(\"2025-10: \", last[65], \" GFlop/s\")"
   ]
  }
 ],
 "metadata": {
  "kernelspec": {
   "display_name": "Python 3",
   "language": "python",
   "name": "python3"
  },
  "language_info": {
   "codemirror_mode": {
    "name": "ipython",
    "version": 3
   },
   "file_extension": ".py",
   "mimetype": "text/x-python",
   "name": "python",
   "nbconvert_exporter": "python",
   "pygments_lexer": "ipython3",
   "version": "3.8.5"
  }
 },
 "nbformat": 4,
 "nbformat_minor": 2
}
